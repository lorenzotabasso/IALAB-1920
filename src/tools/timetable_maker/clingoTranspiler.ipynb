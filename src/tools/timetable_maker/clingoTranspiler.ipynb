{
 "cells": [
  {
   "cell_type": "code",
   "execution_count": 4,
   "metadata": {},
   "outputs": [],
   "source": [
    "import numpy as np\n",
    "import pandas as pd\n",
    "import xlsxwriter\n",
    "import re\n",
    "from collections import namedtuple\n",
    "import sys"
   ]
  },
  {
   "cell_type": "code",
   "execution_count": 8,
   "metadata": {},
   "outputs": [],
   "source": [
    "input_file = sys.argv[1]\n",
    "\n",
    "Calendar = namedtuple(\"Calendar\",[\"week\",\"day\",\"hour\",\"id\",\"lecture\",\"professor\"]) \n",
    "with open(input_file,\"r\") as file:\n",
    "    lines = file.read()\n",
    "    \n",
    "    ## Parser specification\n",
    "    regex_predicate = re.compile(\"calendar\\(([0-9]+),([0-9]+),([0-9]+),([0-9]+),lecture\\(\\\"([a-zA-Z0-9]+)\\\",\\\"([a-zA-Z0-9]+)\\\"\\)\\)\")\n",
    "    regex_top_level = re.compile(\"(Answer: [0-9]+)\\n(.+)\")\n",
    "\n",
    "\n",
    "    # Parse 2 hardcoded nested levels: \n",
    "    # lvl 1) multiple answer-set\n",
    "    parsed_content = {}\n",
    "    for answer_set_match in re.finditer(regex_top_level,lines):\n",
    "        answer_set_name = answer_set_match.groups()[0]\n",
    "        answer_set =  answer_set_match.groups()[1]\n",
    "        # lvl 2) predicates\n",
    "        predicates = [Calendar._make(predicate_match.groups()) for predicate_match in re.finditer(regex_predicate,answer_set)]\n",
    "        \n",
    "        # build dictionary of parsed answer-sets (normalizing the key value)\n",
    "        parsed_content[answer_set_name.replace(\": \",\"_\")] = predicates\n",
    "        \n",
    "    "
   ]
  },
  {
   "cell_type": "code",
   "execution_count": 9,
   "metadata": {},
   "outputs": [
    {
     "data": {
      "text/plain": [
       "{'Answer_1': [Calendar(week='2', day='1', hour='5', id='14', lecture='subj1', professor='prof2'),\n",
       "  Calendar(week='2', day='1', hour='5', id='19', lecture='subj1', professor='prof2'),\n",
       "  Calendar(week='2', day='1', hour='8', id='27', lecture='subj1', professor='prof2'),\n",
       "  Calendar(week='2', day='1', hour='2', id='51', lecture='subj1', professor='prof3'),\n",
       "  Calendar(week='2', day='1', hour='8', id='44', lecture='subj2', professor='prof3'),\n",
       "  Calendar(week='2', day='1', hour='8', id='35', lecture='subj3', professor='prof2'),\n",
       "  Calendar(week='2', day='1', hour='2', id='18', lecture='subj3', professor='prof3'),\n",
       "  Calendar(week='2', day='1', hour='2', id='48', lecture='subj4', professor='prof2'),\n",
       "  Calendar(week='1', day='2', hour='7', id='2', lecture='subj2', professor='prof1'),\n",
       "  Calendar(week='1', day='2', hour='8', id='20', lecture='subj2', professor='prof3'),\n",
       "  Calendar(week='1', day='2', hour='8', id='49', lecture='subj2', professor='prof3'),\n",
       "  Calendar(week='1', day='2', hour='8', id='5', lecture='subj3', professor='prof3'),\n",
       "  Calendar(week='1', day='2', hour='8', id='33', lecture='subj3', professor='prof3'),\n",
       "  Calendar(week='1', day='2', hour='8', id='36', lecture='subj3', professor='prof3'),\n",
       "  Calendar(week='1', day='2', hour='8', id='23', lecture='subj4', professor='prof1'),\n",
       "  Calendar(week='1', day='2', hour='8', id='52', lecture='subj4', professor='prof1'),\n",
       "  Calendar(week='2', day='3', hour='2', id='15', lecture='subj1', professor='prof1'),\n",
       "  Calendar(week='2', day='3', hour='7', id='47', lecture='subj1', professor='prof3'),\n",
       "  Calendar(week='2', day='3', hour='7', id='56', lecture='subj1', professor='prof3'),\n",
       "  Calendar(week='2', day='3', hour='8', id='21', lecture='subj2', professor='prof3'),\n",
       "  Calendar(week='2', day='3', hour='8', id='39', lecture='subj2', professor='prof3'),\n",
       "  Calendar(week='2', day='3', hour='8', id='42', lecture='subj2', professor='prof3'),\n",
       "  Calendar(week='2', day='3', hour='4', id='22', lecture='subj4', professor='prof1'),\n",
       "  Calendar(week='2', day='3', hour='4', id='45', lecture='subj4', professor='prof2'),\n",
       "  Calendar(week='2', day='4', hour='2', id='57', lecture='subj1', professor='prof2'),\n",
       "  Calendar(week='2', day='4', hour='2', id='29', lecture='subj1', professor='prof3'),\n",
       "  Calendar(week='2', day='4', hour='8', id='2', lecture='subj2', professor='prof2'),\n",
       "  Calendar(week='2', day='4', hour='8', id='43', lecture='subj2', professor='prof3'),\n",
       "  Calendar(week='2', day='4', hour='5', id='28', lecture='subj3', professor='prof3'),\n",
       "  Calendar(week='2', day='4', hour='5', id='54', lecture='subj4', professor='prof1'),\n",
       "  Calendar(week='2', day='4', hour='8', id='55', lecture='subj4', professor='prof1'),\n",
       "  Calendar(week='2', day='4', hour='6', id='52', lecture='subj4', professor='prof3'),\n",
       "  Calendar(week='2', day='5', hour='3', id='12', lecture='subj1', professor='prof1'),\n",
       "  Calendar(week='2', day='5', hour='2', id='13', lecture='subj1', professor='prof3'),\n",
       "  Calendar(week='2', day='5', hour='3', id='31', lecture='subj1', professor='prof3'),\n",
       "  Calendar(week='2', day='5', hour='3', id='9', lecture='subj2', professor='prof3'),\n",
       "  Calendar(week='2', day='5', hour='6', id='25', lecture='subj3', professor='prof3'),\n",
       "  Calendar(week='2', day='5', hour='1', id='58', lecture='subj4', professor='prof1'),\n",
       "  Calendar(week='2', day='5', hour='4', id='10', lecture='subj4', professor='prof1'),\n",
       "  Calendar(week='2', day='5', hour='6', id='32', lecture='subj4', professor='prof3'),\n",
       "  Calendar(week='2', day='6', hour='2', id='17', lecture='subj1', professor='prof1'),\n",
       "  Calendar(week='2', day='6', hour='2', id='50', lecture='subj2', professor='prof2'),\n",
       "  Calendar(week='2', day='6', hour='4', id='34', lecture='subj2', professor='prof2'),\n",
       "  Calendar(week='2', day='6', hour='1', id='1', lecture='subj3', professor='prof1'),\n",
       "  Calendar(week='2', day='6', hour='2', id='46', lecture='subj3', professor='prof1'),\n",
       "  Calendar(week='2', day='6', hour='5', id='4', lecture='subj3', professor='prof3'),\n",
       "  Calendar(week='2', day='6', hour='6', id='16', lecture='subj4', professor='prof1'),\n",
       "  Calendar(week='2', day='6', hour='5', id='7', lecture='subj4', professor='prof2'),\n",
       "  Calendar(week='1', day='7', hour='5', id='6', lecture='subj2', professor='prof3'),\n",
       "  Calendar(week='1', day='7', hour='2', id='41', lecture='subj3', professor='prof1'),\n",
       "  Calendar(week='1', day='7', hour='6', id='37', lecture='subj3', professor='prof3'),\n",
       "  Calendar(week='1', day='7', hour='6', id='38', lecture='subj4', professor='prof2'),\n",
       "  Calendar(week='2', day='8', hour='2', id='26', lecture='subj1', professor='prof2'),\n",
       "  Calendar(week='2', day='8', hour='1', id='3', lecture='subj2', professor='prof1'),\n",
       "  Calendar(week='2', day='8', hour='3', id='11', lecture='subj2', professor='prof3'),\n",
       "  Calendar(week='2', day='8', hour='3', id='30', lecture='subj3', professor='prof1'),\n",
       "  Calendar(week='2', day='8', hour='3', id='24', lecture='subj3', professor='prof2'),\n",
       "  Calendar(week='2', day='8', hour='7', id='53', lecture='subj4', professor='prof2'),\n",
       "  Calendar(week='2', day='8', hour='3', id='40', lecture='subj4', professor='prof3'),\n",
       "  Calendar(week='2', day='8', hour='4', id='8', lecture='subj4', professor='prof3')]}"
      ]
     },
     "execution_count": 9,
     "metadata": {},
     "output_type": "execute_result"
    }
   ],
   "source": [
    "parsed_content"
   ]
  },
  {
   "cell_type": "code",
   "execution_count": 10,
   "metadata": {},
   "outputs": [],
   "source": []
  },
  {
   "cell_type": "markdown",
   "metadata": {},
   "source": [
    "#### Build timetable (TODO)"
   ]
  },
  {
   "cell_type": "code",
   "execution_count": 122,
   "metadata": {},
   "outputs": [
    {
     "data": {
      "text/html": [
       "<div>\n",
       "<style scoped>\n",
       "    .dataframe tbody tr th:only-of-type {\n",
       "        vertical-align: middle;\n",
       "    }\n",
       "\n",
       "    .dataframe tbody tr th {\n",
       "        vertical-align: top;\n",
       "    }\n",
       "\n",
       "    .dataframe thead th {\n",
       "        text-align: right;\n",
       "    }\n",
       "</style>\n",
       "<table border=\"1\" class=\"dataframe\">\n",
       "  <thead>\n",
       "    <tr style=\"text-align: right;\">\n",
       "      <th>day</th>\n",
       "      <th>1</th>\n",
       "      <th>10</th>\n",
       "      <th>2</th>\n",
       "      <th>3</th>\n",
       "      <th>4</th>\n",
       "      <th>5</th>\n",
       "      <th>6</th>\n",
       "      <th>7</th>\n",
       "      <th>8</th>\n",
       "      <th>9</th>\n",
       "    </tr>\n",
       "    <tr>\n",
       "      <th>week</th>\n",
       "      <th></th>\n",
       "      <th></th>\n",
       "      <th></th>\n",
       "      <th></th>\n",
       "      <th></th>\n",
       "      <th></th>\n",
       "      <th></th>\n",
       "      <th></th>\n",
       "      <th></th>\n",
       "      <th></th>\n",
       "    </tr>\n",
       "  </thead>\n",
       "  <tbody>\n",
       "    <tr>\n",
       "      <th>1</th>\n",
       "      <td>8.0</td>\n",
       "      <td>NaN</td>\n",
       "      <td>NaN</td>\n",
       "      <td>NaN</td>\n",
       "      <td>NaN</td>\n",
       "      <td>NaN</td>\n",
       "      <td>8.0</td>\n",
       "      <td>NaN</td>\n",
       "      <td>NaN</td>\n",
       "      <td>NaN</td>\n",
       "    </tr>\n",
       "    <tr>\n",
       "      <th>2</th>\n",
       "      <td>NaN</td>\n",
       "      <td>NaN</td>\n",
       "      <td>8.0</td>\n",
       "      <td>8.0</td>\n",
       "      <td>8.0</td>\n",
       "      <td>8.0</td>\n",
       "      <td>NaN</td>\n",
       "      <td>8.0</td>\n",
       "      <td>8.0</td>\n",
       "      <td>NaN</td>\n",
       "    </tr>\n",
       "    <tr>\n",
       "      <th>3</th>\n",
       "      <td>NaN</td>\n",
       "      <td>8.0</td>\n",
       "      <td>NaN</td>\n",
       "      <td>NaN</td>\n",
       "      <td>NaN</td>\n",
       "      <td>NaN</td>\n",
       "      <td>NaN</td>\n",
       "      <td>NaN</td>\n",
       "      <td>NaN</td>\n",
       "      <td>8.0</td>\n",
       "    </tr>\n",
       "  </tbody>\n",
       "</table>\n",
       "</div>"
      ],
      "text/plain": [
       "day     1   10    2    3    4    5    6    7    8    9\n",
       "week                                                  \n",
       "1     8.0  NaN  NaN  NaN  NaN  NaN  8.0  NaN  NaN  NaN\n",
       "2     NaN  NaN  8.0  8.0  8.0  8.0  NaN  8.0  8.0  NaN\n",
       "3     NaN  8.0  NaN  NaN  NaN  NaN  NaN  NaN  NaN  8.0"
      ]
     },
     "execution_count": 122,
     "metadata": {},
     "output_type": "execute_result"
    }
   ],
   "source": [
    "pd.pivot_table(df,columns=df.day.name, index=df.week.name,values=df.hour.name,aggfunc=np.count_nonzero)"
   ]
  },
  {
   "cell_type": "code",
   "execution_count": 121,
   "metadata": {},
   "outputs": [
    {
     "data": {
      "text/plain": [
       "'day'"
      ]
     },
     "execution_count": 121,
     "metadata": {},
     "output_type": "execute_result"
    }
   ],
   "source": [
    "df.day.name"
   ]
  },
  {
   "cell_type": "code",
   "execution_count": 55,
   "metadata": {},
   "outputs": [],
   "source": [
    "timetable.to_excel(\"timetable.xlsx\")"
   ]
  }
 ],
 "metadata": {
  "kernelspec": {
   "display_name": "Python 3",
   "language": "python",
   "name": "python3"
  },
  "language_info": {
   "codemirror_mode": {
    "name": "ipython",
    "version": 3
   },
   "file_extension": ".py",
   "mimetype": "text/x-python",
   "name": "python",
   "nbconvert_exporter": "python",
   "pygments_lexer": "ipython3",
   "version": "3.8.2"
  }
 },
 "nbformat": 4,
 "nbformat_minor": 4
}
