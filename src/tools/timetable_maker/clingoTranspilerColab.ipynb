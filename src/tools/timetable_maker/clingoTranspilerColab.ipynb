{
 "cells": [
  {
   "cell_type": "markdown",
   "metadata": {
    "colab_type": "text",
    "id": "TqG_2_u_6Rq8"
   },
   "source": [
    "# Requiments\n",
    "\n",
    "Mount Google Drive before run, otherwise the parser won't work."
   ]
  },
  {
   "cell_type": "code",
   "execution_count": 0,
   "metadata": {
    "colab": {},
    "colab_type": "code",
    "id": "Aq4KD2n2dlkB"
   },
   "outputs": [],
   "source": [
    "from google.colab import drive\n",
    "drive.mount('/content/drive/')"
   ]
  },
  {
   "cell_type": "markdown",
   "metadata": {
    "colab_type": "text",
    "id": "ylsSMJMB6kpB"
   },
   "source": [
    "# Parser\n",
    "\n",
    "Every time we open colab, it loads the default enviroment, in which is not installed xlsxwriter. So we need to install the xlsxwriter package every time."
   ]
  },
  {
   "cell_type": "code",
   "execution_count": 1,
   "metadata": {
    "colab": {},
    "colab_type": "code",
    "id": "av4b5Ay-wqdu"
   },
   "outputs": [
    {
     "name": "stdout",
     "output_type": "stream",
     "text": [
      "Collecting xlsxwriter\n",
      "  Downloading XlsxWriter-1.2.8-py2.py3-none-any.whl (141 kB)\n",
      "\u001b[K     |████████████████████████████████| 141 kB 177 kB/s eta 0:00:01\n",
      "\u001b[?25hInstalling collected packages: xlsxwriter\n",
      "Successfully installed xlsxwriter-1.2.8\n",
      "Note: you may need to restart the kernel to use updated packages.\n"
     ]
    }
   ],
   "source": [
    "pip install xlsxwriter # because it's not a standard package inside Colab"
   ]
  },
  {
   "cell_type": "code",
   "execution_count": 2,
   "metadata": {
    "colab": {},
    "colab_type": "code",
    "id": "rWUf2t0Z5pR2"
   },
   "outputs": [
    {
     "ename": "ModuleNotFoundError",
     "evalue": "No module named 'numpy'",
     "output_type": "error",
     "traceback": [
      "\u001b[0;31m---------------------------------------------------------------------------\u001b[0m",
      "\u001b[0;31mModuleNotFoundError\u001b[0m                       Traceback (most recent call last)",
      "\u001b[0;32m<ipython-input-2-b4e1e7c6e217>\u001b[0m in \u001b[0;36m<module>\u001b[0;34m\u001b[0m\n\u001b[0;32m----> 1\u001b[0;31m \u001b[0;32mimport\u001b[0m \u001b[0mnumpy\u001b[0m \u001b[0;32mas\u001b[0m \u001b[0mnp\u001b[0m\u001b[0;34m\u001b[0m\u001b[0;34m\u001b[0m\u001b[0m\n\u001b[0m\u001b[1;32m      2\u001b[0m \u001b[0;32mimport\u001b[0m \u001b[0mpandas\u001b[0m \u001b[0;32mas\u001b[0m \u001b[0mpd\u001b[0m\u001b[0;34m\u001b[0m\u001b[0;34m\u001b[0m\u001b[0m\n\u001b[1;32m      3\u001b[0m \u001b[0;32mimport\u001b[0m \u001b[0mxlsxwriter\u001b[0m\u001b[0;34m\u001b[0m\u001b[0;34m\u001b[0m\u001b[0m\n\u001b[1;32m      4\u001b[0m \u001b[0;32mimport\u001b[0m \u001b[0mre\u001b[0m\u001b[0;34m\u001b[0m\u001b[0;34m\u001b[0m\u001b[0m\n\u001b[1;32m      5\u001b[0m \u001b[0;32mfrom\u001b[0m \u001b[0mcollections\u001b[0m \u001b[0;32mimport\u001b[0m \u001b[0mnamedtuple\u001b[0m\u001b[0;34m\u001b[0m\u001b[0;34m\u001b[0m\u001b[0m\n",
      "\u001b[0;31mModuleNotFoundError\u001b[0m: No module named 'numpy'"
     ]
    }
   ],
   "source": [
    "import numpy as np\n",
    "import pandas as pd\n",
    "import xlsxwriter\n",
    "import re\n",
    "from collections import namedtuple\n",
    "from google.colab import files\n",
    "import io"
   ]
  },
  {
   "cell_type": "code",
   "execution_count": 0,
   "metadata": {
    "colab": {},
    "colab_type": "code",
    "id": "Q8RTCGTy43jN"
   },
   "outputs": [],
   "source": [
    "#input_file = \"out.txt\"\n",
    "input_file = \"drive/My Drive/Magistrale/Corsi/IALAB/Progetto/19-20/ASP/output_clingo/out_completed_utf-8.txt\"\n",
    "\n",
    "Calendar = namedtuple(\"Calendar\",[\"week\",\"day\",\"hour\",\"id\",\"lecture\",\"professor\"]) \n",
    "  \n",
    "with open(input_file,\"r\") as file:\n",
    "    lines = file.read()\n",
    "    \n",
    "    ## Parser specification\n",
    "    regex_predicate = re.compile(\"calendar\\((\\d+),(\\d+),(\\d+),(\\d+),\\\"([\\w\\s:-]+)\\\",\\\"([\\w\\s:-]*)\\\"\\)\") # senza lecture\n",
    "    regex_top_level = re.compile(\"(Answer: [\\d]+)\\n(.+)\")\n",
    "    \n",
    "    # Parse 2 hardcoded nested levels: \n",
    "    # lvl 1) multiple answer-set\n",
    "    parsed_content = {}\n",
    "    for answer_set_match in re.finditer(regex_top_level,lines):\n",
    "        answer_set_name = answer_set_match.groups()[0]\n",
    "        answer_set =  answer_set_match.groups()[1]\n",
    "        # lvl 2) predicates\n",
    "        predicates = [Calendar._make(predicate_match.groups()) for predicate_match in re.finditer(regex_predicate,answer_set)]\n",
    "        \n",
    "        # build dictionary of parsed answer-sets (normalizing the key value)\n",
    "        parsed_content[answer_set_name.replace(\": \",\"_\")] = predicates\n",
    "\n",
    "# TODO: put in other cell.\n",
    "def format_excel(file_name):\n",
    "    \n",
    "    writer = pd.ExcelWriter(file_name, engine='xlsxwriter')\n",
    "    df.to_excel(writer, sheet_name=\"Sheet1\")\n",
    "\n",
    "    # Get the xlsxwriter workbook and worksheet objects.\n",
    "    workbook  = writer.book\n",
    "    worksheet = writer.sheets['Sheet1']\n",
    "\n",
    "    # Format 1. Light red fill with dark red text.\n",
    "    format1 = workbook.add_format({'bg_color': '#FFC7CE',\n",
    "                                  'font_color': '#9C0006'})\n",
    "\n",
    "    # Format 2. Green fill with dark green text.\n",
    "    format2 = workbook.add_format({'bg_color': '#C6EFCE',\n",
    "                                  'font_color': '#006100'})\n",
    "    \n",
    "    # Format 3. Yellow fill with brown text.\n",
    "    format3 = workbook.add_format({'bg_color': '#FFEB9B',\n",
    "                                  'font_color': '#9D744F'})\n",
    "    \n",
    "    # Format 4. Orange fill with light purple text.\n",
    "    format4 = workbook.add_format({'bg_color': '#FFCC99',\n",
    "                                  'font_color': '#766882'})\n",
    "\n",
    "    worksheet.conditional_format('F2:F359', {'type': 'text',\n",
    "                                            'criteria': 'containing',\n",
    "                                            'value': 'Progettazione e sviluppo di applicazioni web su dispositivi mobile I',\n",
    "                                            'format': format1})\n",
    "    \n",
    "    worksheet.conditional_format('F2:F359', {'type': 'text',\n",
    "                                            'criteria': 'containing',\n",
    "                                            'value': 'Progettazione e sviluppo di applicazioni web su dispositivi mobile II',\n",
    "                                            'format': format2})\n",
    "\n",
    "    # Close the Pandas Excel writer and output the Excel file.\n",
    "    writer.save()\n",
    "    print(\"Formatting of file {} completed.\".format(file_name))"
   ]
  },
  {
   "cell_type": "code",
   "execution_count": 0,
   "metadata": {
    "colab": {},
    "colab_type": "code",
    "id": "MFWQ5D2E45TL"
   },
   "outputs": [],
   "source": [
    "parsed_content"
   ]
  },
  {
   "cell_type": "code",
   "execution_count": 0,
   "metadata": {
    "colab": {},
    "colab_type": "code",
    "id": "CX3DvZBY48HM"
   },
   "outputs": [],
   "source": [
    "df = pd.DataFrame(parsed_content['Answer_1'])\n",
    "\n",
    "df = df.astype({'week': 'int64', 'day': 'int64', 'hour': 'int64'})"
   ]
  },
  {
   "cell_type": "code",
   "execution_count": 0,
   "metadata": {
    "colab": {},
    "colab_type": "code",
    "id": "JtE782rFPymH"
   },
   "outputs": [],
   "source": [
    "df = df.set_index(['week','day','hour']).drop('id',axis=1)\n",
    "\n",
    "df = df.sort_index()\n",
    "\n",
    "df = df.replace({'day':{'1':'Lun (1)','2':'Mar (2)','3':'Mer (3)',\n",
    "                   '4':'Gio (4)','5':'Ven (5)','6':'Sab (6)'}})\n"
   ]
  },
  {
   "cell_type": "code",
   "execution_count": 0,
   "metadata": {
    "colab": {},
    "colab_type": "code",
    "id": "9EvrKJKq4_ha"
   },
   "outputs": [],
   "source": [
    "df['Lecture'] = df['lecture'] + \": \" + df['professor']\n",
    "df = df.drop(['lecture','professor'], axis=1)"
   ]
  },
  {
   "cell_type": "code",
   "execution_count": 0,
   "metadata": {
    "colab": {},
    "colab_type": "code",
    "id": "RuXEgzi-5CqG"
   },
   "outputs": [],
   "source": [
    "df"
   ]
  },
  {
   "cell_type": "markdown",
   "metadata": {
    "colab_type": "text",
    "id": "0A-aicwG5QiG"
   },
   "source": [
    "##Build TimeTable (TODO)"
   ]
  },
  {
   "cell_type": "code",
   "execution_count": 0,
   "metadata": {
    "colab": {},
    "colab_type": "code",
    "id": "B-6Fdy0k5FaG"
   },
   "outputs": [],
   "source": [
    "timetable = df.unstack('hour')\n",
    "\n",
    "timetable = timetable.apply(lambda x: pd.Series(x.dropna().values), axis=1).fillna('')\n",
    "#timetable = timetable.apply(lambda x: pd.Series(x.dropna().values), axis=1).fillna('')\n",
    "\n",
    "\n",
    "timetable = timetable.set_axis([1,2,3,4,5,6,7,8], axis = 1)\n",
    "timetable = timetable.rename_axis(\"hour\", axis=1)\n",
    "timetable"
   ]
  },
  {
   "cell_type": "code",
   "execution_count": 0,
   "metadata": {
    "colab": {},
    "colab_type": "code",
    "id": "PS-ieSLo5M4d"
   },
   "outputs": [],
   "source": [
    "timetable.to_excel(\"timetable.xlsx\")"
   ]
  },
  {
   "cell_type": "markdown",
   "metadata": {
    "colab_type": "text",
    "id": "tjSoA4eC4F17"
   },
   "source": [
    "## Export and unmount Google Drive\n",
    "**Manually coping** the Excel sheet containing the result inside my Google Drive folder"
   ]
  },
  {
   "cell_type": "code",
   "execution_count": 0,
   "metadata": {
    "colab": {},
    "colab_type": "code",
    "id": "cie3mKRX3liq"
   },
   "outputs": [],
   "source": [
    "!cp timetable.xlsx \"drive/My Drive/Magistrale/Corsi/IALAB/Progetto/19-20/ASP/output_excel\""
   ]
  },
  {
   "cell_type": "markdown",
   "metadata": {
    "colab_type": "text",
    "id": "kZIsKQXZ6MdG"
   },
   "source": [
    "Finally unmount Google Drive"
   ]
  },
  {
   "cell_type": "code",
   "execution_count": 0,
   "metadata": {
    "colab": {},
    "colab_type": "code",
    "id": "F6kU6REm6HCi"
   },
   "outputs": [],
   "source": [
    "drive.flush_and_unmount()"
   ]
  }
 ],
 "metadata": {
  "colab": {
   "collapsed_sections": [],
   "name": "parser.ipynb",
   "provenance": [],
   "toc_visible": true
  },
  "kernelspec": {
   "display_name": "Python 3",
   "language": "python",
   "name": "python3"
  },
  "language_info": {
   "codemirror_mode": {
    "name": "ipython",
    "version": 3
   },
   "file_extension": ".py",
   "mimetype": "text/x-python",
   "name": "python",
   "nbconvert_exporter": "python",
   "pygments_lexer": "ipython3",
   "version": "3.8.2"
  }
 },
 "nbformat": 4,
 "nbformat_minor": 1
}
