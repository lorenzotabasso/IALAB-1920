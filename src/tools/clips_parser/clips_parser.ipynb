{
 "cells": [
  {
   "cell_type": "code",
   "execution_count": 74,
   "metadata": {},
   "outputs": [],
   "source": [
    "import numpy as np\n",
    "import matplotlib.pyplot as plt\n",
    "from matplotlib.patches import Rectangle\n",
    "import re"
   ]
  },
  {
   "cell_type": "code",
   "execution_count": 95,
   "metadata": {},
   "outputs": [
    {
     "name": "stdout",
     "output_type": "stream",
     "text": [
      "[('fire', '4', '6'), ('fire', '9', '6'), ('fire', '4', '2'), ('fire', '9', '2'), ('fire', '0', '0'), ('fire', '4', '6'), ('fire', '9', '6'), ('fire', '4', '2'), ('fire', '9', '2'), ('fire', '0', '0')]\n",
      "[('0', '9', 'sub)'), ('4', '6', 'top)'), ('3', '5', 'water)'), ('3', '6', 'water)'), ('3', '7', 'water)'), ('4', '5', 'water)'), ('4', '7', 'water)'), ('5', '5', 'water)'), ('5', '7', 'water)'), ('4', '2', 'top)'), ('3', '1', 'water)'), ('3', '2', 'water)'), ('3', '3', 'water)'), ('4', '1', 'water)'), ('4', '3', 'water)'), ('5', '1', 'water)'), ('5', '3', 'water)'), ('0', '0', 'sub)'), ('9', '2', 'water)'), ('9', '6', 'water)'), ('0', '9', 'sub)'), ('4', '6', 'top)'), ('3', '5', 'water)'), ('3', '6', 'water)'), ('3', '7', 'water)'), ('4', '5', 'water)'), ('4', '7', 'water)'), ('5', '5', 'water)'), ('5', '7', 'water)'), ('4', '2', 'top)'), ('3', '1', 'water)'), ('3', '2', 'water)'), ('3', '3', 'water)'), ('4', '1', 'water)'), ('4', '3', 'water)'), ('5', '1', 'water)'), ('5', '3', 'water)'), ('0', '0', 'sub)'), ('9', '2', 'water)'), ('9', '6', 'water)')]\n",
      "[[100.   0.   5.   0.   8.   0.   5.   0.   4. 100.]\n",
      " [  0.   0.   0.   0.   0.   0.   0.   0.   0.   0.]\n",
      " [  0.   0.   0.   0.   0.   0.   0.   0.   0.   0.]\n",
      " [  5.   0.   0.   0.   7.   0.   0.   0.   3.   3.]\n",
      " [  7.   0. 100.   0.   9.   0. 100.   0.   5.   5.]\n",
      " [  9.   0. 100.   0.  11.   0. 100.   0.   7.   7.]\n",
      " [  9.   0.   8.   0.  11.   0.   8.   0.   7.   7.]\n",
      " [  0.   0.   0.   0.   0.   0.   0.   0.   0.   0.]\n",
      " [  5.   0.   4.   0.   7.   0.   4.   0.   3.   3.]\n",
      " [  7.   0.   0.   0.   9.   0.   0.   0.   5.   5.]]\n",
      "[[ 6.  0.  5.  0.  8.  0.  5.  0.  4.  6.]\n",
      " [ 0.  0.  0.  0.  0.  0.  0.  0.  0.  0.]\n",
      " [ 0.  0.  0.  0.  0.  0.  0.  0.  0.  0.]\n",
      " [ 5.  0.  0.  0.  7.  0.  0.  0.  3.  3.]\n",
      " [ 7.  0.  6.  0.  9.  0.  6.  0.  5.  5.]\n",
      " [ 9.  0.  6.  0. 11.  0.  6.  0.  7.  7.]\n",
      " [ 9.  0.  8.  0. 11.  0.  8.  0.  7.  7.]\n",
      " [ 0.  0.  0.  0.  0.  0.  0.  0.  0.  0.]\n",
      " [ 5.  0.  4.  0.  7.  0.  4.  0.  3.  3.]\n",
      " [ 7.  0.  0.  0.  9.  0.  0.  0.  5.  5.]]\n"
     ]
    }
   ],
   "source": [
    "input_file = \"test_output.txt\"\n",
    "\n",
    "heatmap = np.zeros(shape=(10,10))  # initializing the matrix\n",
    "heatmap_median = np.zeros(shape=(10,10))\n",
    "\n",
    "with open(input_file,\"r\") as file:\n",
    "    lines = file.read()\n",
    "    \n",
    "    regex_heatmap = re.compile(\"heat-map \\(x (\\d)\\) \\(y (\\d)\\) \\(h (\\d+)\\)\")\n",
    "    regex_action = re.compile(\"\\(action (.+)\\) \\(x (\\d)\\) \\(y (\\d)\\)\")\n",
    "    regex_k_cell = re.compile(\"k-cell \\(x (\\d)\\) \\(y (\\d)\\) \\(content (.+)\\)\")\n",
    "    \n",
    "    coordinates = re.findall(regex_heatmap, lines)\n",
    "    actions = re.findall(regex_action, lines)\n",
    "    k_cells = re.findall(regex_k_cell, lines)\n",
    "    \n",
    "    print(actions)\n",
    "    print(k_cells)\n",
    "    \n",
    "    for c in coordinates:\n",
    "        x = int(c[0])\n",
    "        y = int(c[1])\n",
    "        value = int(c[2])\n",
    "        heatmap[x,y] = value\n",
    "        \n",
    "        if value == 100:\n",
    "            heatmap_median[x,y] = 6\n",
    "        else:\n",
    "            heatmap_median[x,y] = value\n",
    "    \n",
    "    print(heatmap)  # DEBUG\n",
    "    print(heatmap_median)  # DEBUG"
   ]
  },
  {
   "cell_type": "code",
   "execution_count": 102,
   "metadata": {},
   "outputs": [
    {
     "data": {
      "image/png": "[encoded data removed]",
      "text/plain": [
       "<Figure size 432x288 with 1 Axes>"
      ]
     },
     "metadata": {
      "needs_background": "light"
     },
     "output_type": "display_data"
    },
    {
     "data": {
      "image/png": "[encoded data removed]",
      "text/plain": [
       "<Figure size 432x288 with 1 Axes>"
      ]
     },
     "metadata": {
      "needs_background": "light"
     },
     "output_type": "display_data"
    }
   ],
   "source": [
    "def highlight_cell(y, x, ax=None, **kwargs):\n",
    "    rect = plt.Rectangle((x-.5, y-.5), 1,1, fill=False, **kwargs)\n",
    "    ax = ax or plt.gca()\n",
    "    ax.add_patch(rect)\n",
    "    return rect\n",
    "\n",
    "\n",
    "def annotate_cell(text, x, y):\n",
    "    ax.text(x, y, heatmap[x, y], ha=\"center\", va=\"center\", color=\"r\")\n",
    "\n",
    "\n",
    "def annotate_heatmap():\n",
    "    for c in actions:\n",
    "        x = int(c[1])\n",
    "        y = int(c[2])\n",
    "        if c[0] == \"fire\":\n",
    "            highlight_cell(x,y, color=\"red\", linewidth=2)\n",
    "            \n",
    "    for c2 in k_cells:\n",
    "        x = int(c2[0])\n",
    "        y = int(c2[1])\n",
    "        content = c2[2]\n",
    "        annotate_cell(content, x, y)\n",
    "        \n",
    "\n",
    "# Cmap reference https://matplotlib.org/3.1.1/gallery/color/colormap_reference.html\n",
    "plt.imshow(heatmap, cmap=\"binary\", interpolation='nearest')\n",
    "plt.xlabel(\"Y (colonne)\")\n",
    "plt.ylabel(\"X (righe)\")\n",
    "plt.title(\"Valori a 100\")\n",
    "# annotate_heatmap()\n",
    "plt.show()\n",
    "\n",
    "plt.imshow(heatmap_median, cmap=\"binary\", interpolation='nearest')\n",
    "plt.xlabel(\"Y (colonne)\")\n",
    "plt.ylabel(\"X (righe)\")\n",
    "plt.title(\"Mediana = 6\")\n",
    "# annotate_heatmap()\n",
    "plt.show()"
   ]
  }
 ],
 "metadata": {
  "kernelspec": {
   "display_name": "Python 3",
   "language": "python",
   "name": "python3"
  },
  "language_info": {
   "codemirror_mode": {
    "name": "ipython",
    "version": 3
   },
   "file_extension": ".py",
   "mimetype": "text/x-python",
   "name": "python",
   "nbconvert_exporter": "python",
   "pygments_lexer": "ipython3",
   "version": "3.7.6"
  }
 },
 "nbformat": 4,
 "nbformat_minor": 4
}
