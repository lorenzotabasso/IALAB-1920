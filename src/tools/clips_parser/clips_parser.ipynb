{
 "cells": [
  {
   "cell_type": "code",
   "execution_count": 172,
   "metadata": {},
   "outputs": [],
   "source": [
    "import numpy as np\n",
    "import matplotlib.pyplot as plt\n",
    "from matplotlib.patches import Rectangle\n",
    "import re"
   ]
  },
  {
   "cell_type": "code",
   "execution_count": 179,
   "metadata": {},
   "outputs": [],
   "source": [
    "input_file = \"test_output.txt\"\n",
    "\n",
    "heatmap = np.zeros(shape=(10,10))  # initializing the matrix\n",
    "\n",
    "with open(input_file,\"r\") as file:\n",
    "    lines = file.read()\n",
    "    \n",
    "    regex_heatmap = re.compile(\"heat-map \\(x (\\d)\\) \\(y (\\d)\\) \\(h (\\d+)\\)\")\n",
    "    regex_action = re.compile(\"\\(action (.+)\\) \\(x (\\d)\\) \\(y (\\d)\\)\")\n",
    "    regex_k_cell = re.compile(\"k-cell \\(x (\\d)\\) \\(y (\\d)\\) \\(content (.+)\\)\\)\")\n",
    "    \n",
    "    coordinates = re.findall(regex_heatmap, lines)\n",
    "    actions = re.findall(regex_action, lines)\n",
    "    k_cells = re.findall(regex_k_cell, lines)\n",
    "    \n",
    "    #print(actions)  # DEBUG\n",
    "    #print(k_cells)  # DEBUG\n",
    "    \n",
    "    for c in coordinates:\n",
    "        x = int(c[0])\n",
    "        y = int(c[1])\n",
    "        value = int(c[2])\n",
    "        \n",
    "        heatmap[x,y] = value\n",
    "            \n",
    "    # Getting the cordinates of the cells containing 100\n",
    "    cells_100 = np.where(heatmap == 100)\n",
    "    # putting them all to 0\n",
    "    heatmap[cells_100] = 0\n",
    "    # putting them all to max value + 1\n",
    "    heatmap[cells_100] = np.max(heatmap) + 1\n",
    "    \n",
    "    #print(heatmap)  # DEBUG"
   ]
  },
  {
   "cell_type": "code",
   "execution_count": 181,
   "metadata": {},
   "outputs": [
    {
     "data": {
      "image/png": "[encoded data removed]",
      "text/plain": [
       "<Figure size 432x288 with 1 Axes>"
      ]
     },
     "metadata": {
      "needs_background": "light"
     },
     "output_type": "display_data"
    }
   ],
   "source": [
    "def highlight_cell(y, x, ax=None, **kwargs):\n",
    "    rect = plt.Rectangle((x-.5, y-.5), 1,1, fill=False, **kwargs)\n",
    "    ax = ax or plt.gca()\n",
    "    ax.add_patch(rect)\n",
    "    return rect\n",
    "\n",
    "\n",
    "def annotate_cell(text, x, y):\n",
    "    # TODO: controllare qui https://matplotlib.org/3.1.1/gallery/images_contours_and_fields/image_annotated_heatmap.html\n",
    "    t = \"\"\n",
    "    if text == \"water\":\n",
    "        t = \"w\"\n",
    "    elif text == \"sub\":\n",
    "        t = \"s\"\n",
    "    else:\n",
    "        t = \"t\"\n",
    "    plt.text(x, y, t, ha=\"center\", va=\"center\", color=\"r\")\n",
    "\n",
    "\n",
    "def annotate_heatmap():\n",
    "    for c in actions:\n",
    "        x = int(c[1])\n",
    "        y = int(c[2])\n",
    "        if c[0] == \"fire\":\n",
    "            highlight_cell(x,y, color=\"red\", linewidth=2)\n",
    "    \n",
    "    for c2 in k_cells:\n",
    "        x = int(c2[0])\n",
    "        y = int(c2[1])\n",
    "        content = c2[2]\n",
    "        annotate_cell(content, y, x)\n",
    "\n",
    "\n",
    "plt.imshow(heatmap)\n",
    "plt.xlabel(\"Y\")\n",
    "plt.ylabel(\"X\")\n",
    "annotate_heatmap()\n",
    "plt.show()"
   ]
  }
 ],
 "metadata": {
  "kernelspec": {
   "display_name": "Python 3",
   "language": "python",
   "name": "python3"
  },
  "language_info": {
   "codemirror_mode": {
    "name": "ipython",
    "version": 3
   },
   "file_extension": ".py",
   "mimetype": "text/x-python",
   "name": "python",
   "nbconvert_exporter": "python",
   "pygments_lexer": "ipython3",
   "version": "3.7.6"
  }
 },
 "nbformat": 4,
 "nbformat_minor": 4
}
